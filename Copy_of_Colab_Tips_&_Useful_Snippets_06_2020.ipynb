{
  "nbformat": 4,
  "nbformat_minor": 0,
  "metadata": {
    "colab": {
      "name": "Copy of Colab Tips & Useful Snippets 06 2020.ipynb",
      "provenance": [],
      "authorship_tag": "ABX9TyNw7IO5Ah7YcKlcTumLEj5V",
      "include_colab_link": true
    },
    "kernelspec": {
      "name": "python3",
      "display_name": "Python 3"
    }
  },
  "cells": [
    {
      "cell_type": "markdown",
      "metadata": {
        "id": "view-in-github",
        "colab_type": "text"
      },
      "source": [
        "<a href=\"https://colab.research.google.com/github/GrueneKatze/AI-for-Medicine-Coursera/blob/master/Copy_of_Colab_Tips_%26_Useful_Snippets_06_2020.ipynb\" target=\"_parent\"><img src=\"https://colab.research.google.com/assets/colab-badge.svg\" alt=\"Open In Colab\"/></a>"
      ]
    },
    {
      "cell_type": "markdown",
      "metadata": {
        "id": "3G-gBqXx38lE",
        "colab_type": "text"
      },
      "source": [
        "##FastAI updates, imports, mounting Google Drive"
      ]
    },
    {
      "cell_type": "code",
      "metadata": {
        "id": "RfNcmTrH37hl",
        "colab_type": "code",
        "colab": {}
      },
      "source": [
        "!curl -s https://course.fast.ai/setup/colab | bash"
      ],
      "execution_count": null,
      "outputs": []
    },
    {
      "cell_type": "code",
      "metadata": {
        "id": "_BnOyVHw4L9I",
        "colab_type": "code",
        "colab": {}
      },
      "source": [
        "from fastai.vision import *\n",
        "from fastai.metrics import error_rate\n",
        "import os"
      ],
      "execution_count": null,
      "outputs": []
    },
    {
      "cell_type": "code",
      "metadata": {
        "id": "0z-nsAKt4eIO",
        "colab_type": "code",
        "colab": {}
      },
      "source": [
        "!pip install -q pydicom"
      ],
      "execution_count": null,
      "outputs": []
    },
    {
      "cell_type": "code",
      "metadata": {
        "id": "uWJedJwq4XEH",
        "colab_type": "code",
        "colab": {}
      },
      "source": [
        "import pandas as pd \n",
        "import numpy as np\n",
        "import matplotlib\n",
        "import matplotlib.pyplot as plt\n",
        "from tqdm import tqdm_notebook\n",
        "from matplotlib.patches import Rectangle\n",
        "import seaborn as sns\n",
        "import pydicom as pydicom"
      ],
      "execution_count": null,
      "outputs": []
    },
    {
      "cell_type": "code",
      "metadata": {
        "id": "qXFSkxei4deG",
        "colab_type": "code",
        "colab": {}
      },
      "source": [
        "from google.colab import drive\n",
        "drive.mount('/content/gdrive', force_remount=True)\n",
        "root_dir = \"/content/gdrive/My Drive/\"\n",
        "base_dir = root_dir + 'fastai/'"
      ],
      "execution_count": null,
      "outputs": []
    },
    {
      "cell_type": "code",
      "metadata": {
        "id": "W0BGAWcxpB_N",
        "colab_type": "code",
        "colab": {}
      },
      "source": [
        "#set path\n",
        "path_r = Path(\"/content/data\")"
      ],
      "execution_count": null,
      "outputs": []
    },
    {
      "cell_type": "code",
      "metadata": {
        "id": "hmJcKgAU5JLC",
        "colab_type": "code",
        "colab": {}
      },
      "source": [
        "path_rsna = Path(base_dir + 'rsna')\n",
        "path_rsna.mkdir(parents=True, exist_ok=True)"
      ],
      "execution_count": null,
      "outputs": []
    },
    {
      "cell_type": "code",
      "metadata": {
        "id": "aY4m5khspeIS",
        "colab_type": "code",
        "colab": {}
      },
      "source": [
        "#Check content in a folder\n",
        "path_r.ls()"
      ],
      "execution_count": null,
      "outputs": []
    },
    {
      "cell_type": "code",
      "metadata": {
        "id": "DHFrEIVw6MAD",
        "colab_type": "code",
        "colab": {}
      },
      "source": [
        "#Moving files from one folder to another\n",
        "files = os.listdir(path_train)\n",
        "source = '/content/gdrive/My Drive/fastai/rsna/train/'\n",
        "dest1 = '/content/gdrive/My Drive/fastai/rsna/valida/'\n",
        "for f in files:\n",
        "  shutil.move(source+f, dest1)"
      ],
      "execution_count": null,
      "outputs": []
    },
    {
      "cell_type": "markdown",
      "metadata": {
        "id": "7oMsjWCT4l2G",
        "colab_type": "text"
      },
      "source": [
        "##Zip, to/ from csv, dcm"
      ]
    },
    {
      "cell_type": "code",
      "metadata": {
        "id": "aMKvpRyF4uSv",
        "colab_type": "code",
        "colab": {}
      },
      "source": [
        "import zipfile"
      ],
      "execution_count": null,
      "outputs": []
    },
    {
      "cell_type": "code",
      "metadata": {
        "id": "WysNooiO4vZD",
        "colab_type": "code",
        "colab": {}
      },
      "source": [
        "with zipfile.ZipFile(path_f/'stage_2_detailed_class_info.csv.zip', 'r') as zip_ref:\n",
        "  zip_ref.extractall(path_rsna)"
      ],
      "execution_count": null,
      "outputs": []
    },
    {
      "cell_type": "code",
      "metadata": {
        "id": "oDB1XAsK7gTH",
        "colab_type": "code",
        "colab": {}
      },
      "source": [
        "train_labels_df.to_csv(path_train/'train_labels.csv')"
      ],
      "execution_count": null,
      "outputs": []
    },
    {
      "cell_type": "code",
      "metadata": {
        "id": "7Qiy311B7dFS",
        "colab_type": "code",
        "colab": {}
      },
      "source": [
        "train_labels_df = pd.read_csv(path_rsna/'stage_2_train_labels.csv')"
      ],
      "execution_count": null,
      "outputs": []
    },
    {
      "cell_type": "code",
      "metadata": {
        "id": "eRIGWTIgADAS",
        "colab_type": "code",
        "colab": {}
      },
      "source": [
        "def open_dcm_image(fn:PathOrStr,convert_mode:str='RGB',after_open:Callable=None)->Image:\n",
        "  \"Return `Image` object created from image in file `fn`.\"\n",
        "  array = pydicom.dcmread(fn).pixel_array\n",
        "  x = PIL.Image.fromarray(array).convert('RGB')\n",
        "  return Image(pil2tensor(x,np.float32).div_(255))"
      ],
      "execution_count": null,
      "outputs": []
    },
    {
      "cell_type": "code",
      "metadata": {
        "id": "TZu-bQRnAIIR",
        "colab_type": "code",
        "colab": {}
      },
      "source": [
        "vision.data.open_image = open_dcm_image"
      ],
      "execution_count": null,
      "outputs": []
    },
    {
      "cell_type": "markdown",
      "metadata": {
        "id": "I1fYFGpF8ATs",
        "colab_type": "text"
      },
      "source": [
        "##Dataframes"
      ]
    },
    {
      "cell_type": "code",
      "metadata": {
        "id": "p23VRNlt7zt6",
        "colab_type": "code",
        "colab": {}
      },
      "source": [
        "#Creating empty dataframe with same columns\n",
        "valid_labels_df = pd.DataFrame(columns=train_labels_df.columns)"
      ],
      "execution_count": null,
      "outputs": []
    },
    {
      "cell_type": "code",
      "metadata": {
        "id": "ih_5qiFGpKD0",
        "colab_type": "code",
        "colab": {}
      },
      "source": [
        "#Check data types in df\n",
        "df.dtypes"
      ],
      "execution_count": null,
      "outputs": []
    },
    {
      "cell_type": "code",
      "metadata": {
        "id": "dPeWCpUstbcU",
        "colab_type": "code",
        "colab": {}
      },
      "source": [
        "#replacing values in a column based on condition\n",
        "data_w_dummies.loc[data_w_dummies['Churn'] == 'Yes', 'Churn'] = 1"
      ],
      "execution_count": null,
      "outputs": []
    },
    {
      "cell_type": "code",
      "metadata": {
        "id": "2vK7BNyrFKlW",
        "colab_type": "code",
        "colab": {}
      },
      "source": [
        "#excluding raws based on condition\n",
        "df_filtered = df[df['Age'] >= 25]"
      ],
      "execution_count": null,
      "outputs": []
    },
    {
      "cell_type": "code",
      "metadata": {
        "id": "felTsH0q8QXq",
        "colab_type": "code",
        "colab": {}
      },
      "source": [
        "#Moving rows based on condition\n",
        "for i in image_ids: #list of patientId values based on which we move rows\n",
        "  #if i == train_labels_df.patientId:\n",
        "  rows = train_labels_df.loc[train_labels_df['patientId'] == i, :]\n",
        "  valid_labels_df = valid_labels_df.append(rows, ignore_index=False)\n",
        "  train_labels_df.drop(rows.index, inplace=True)\n"
      ],
      "execution_count": null,
      "outputs": []
    },
    {
      "cell_type": "code",
      "metadata": {
        "id": "dCKX71vb_Dtr",
        "colab_type": "code",
        "colab": {}
      },
      "source": [
        "#Showing a sample \n",
        "train_labels_df.sample(10)"
      ],
      "execution_count": null,
      "outputs": []
    },
    {
      "cell_type": "code",
      "metadata": {
        "id": "CxpXgJLf_Nnb",
        "colab_type": "code",
        "colab": {}
      },
      "source": [
        "#Checking if there're nans\n",
        "class_info_df.isnull().any()"
      ],
      "execution_count": null,
      "outputs": []
    },
    {
      "cell_type": "code",
      "metadata": {
        "id": "5-aTHJmBo3S-",
        "colab_type": "code",
        "colab": {}
      },
      "source": [
        "#Checking if there're any empty cells\n",
        "#np.where(data_w_dummies.applymap(lambda x: x == ''))\n",
        "df[df['column_name'] == ''].index"
      ],
      "execution_count": null,
      "outputs": []
    },
    {
      "cell_type": "code",
      "metadata": {
        "id": "z6HFYN4CFGd2",
        "colab_type": "code",
        "colab": {}
      },
      "source": [
        ""
      ],
      "execution_count": null,
      "outputs": []
    },
    {
      "cell_type": "code",
      "metadata": {
        "id": "en8qddjSrkVf",
        "colab_type": "code",
        "colab": {}
      },
      "source": [
        "#creating list of nan indexes\n",
        "def check_nulls(data):\n",
        "  check = data.isnull().any()\n",
        "  res = []\n",
        "  for i in check:\n",
        "    if i== True:\n",
        "      res.append(check[check == i].index[0])\n",
        "  return res\n",
        "\n",
        "#deleting nans; cols = output of check_nulls(data)\n",
        "def delete_nulls(cols, data):\n",
        "  for i in cols:\n",
        "    checked_data = data\n",
        "    #data = checked_data\n",
        "    null_to_find = pd.isnull(checked_data[i])\n",
        "    raw = checked_data[null_to_find].index[0]\n",
        "    data = checked_data.drop(raw)\n",
        "  return data\n"
      ],
      "execution_count": null,
      "outputs": []
    },
    {
      "cell_type": "code",
      "metadata": {
        "id": "LZnDKPZr_X3M",
        "colab_type": "code",
        "colab": {}
      },
      "source": [
        "#Merging 2 datasets (inner)\n",
        "\n",
        "train_class_df = train_labels_df.merge(class_info_df, left_on='patientId', right_on='patientId', how='inner')"
      ],
      "execution_count": null,
      "outputs": []
    },
    {
      "cell_type": "code",
      "metadata": {
        "id": "S7lA7xM9_29b",
        "colab_type": "code",
        "colab": {}
      },
      "source": [
        "#convert class data into one-hot encoding format\n",
        "from sklearn.preprocessing import LabelEncoder, OneHotEncoder\n",
        "class_enc = LabelEncoder()\n",
        "train_class_df['class_idx'] = class_enc.fit_transform(train_class_df['class'])\n",
        "oh_enc = OneHotEncoder(sparse=False)\n",
        "train_class_df['class_vec'] = oh_enc.fit_transform(train_class_df['class_idx'].values.reshape(-1, 1)).tolist() \n",
        "train_class_df.sample(3)"
      ],
      "execution_count": null,
      "outputs": []
    },
    {
      "cell_type": "code",
      "metadata": {
        "id": "MZza4w5utsqW",
        "colab_type": "code",
        "colab": {}
      },
      "source": [
        "#convert categorical values into multiple columns\n",
        "dummy_fields = ['gender', 'Partner', 'Dependents','PhoneService','MultipleLines']\n",
        "for each in dummy_fields:\n",
        "    dummies = pd.get_dummies(dataset[each], prefix=each, drop_first=False)\n",
        "    dataset = pd.concat([dummies, dataset], axis=1)\n",
        "\n",
        "data_w_dummies = dataset.drop(dummy_fields, axis=1)\n",
        "data_w_dummies.sample()"
      ],
      "execution_count": null,
      "outputs": []
    },
    {
      "cell_type": "code",
      "metadata": {
        "id": "J1b_BxESiakC",
        "colab_type": "code",
        "colab": {}
      },
      "source": [
        "#convert column values to float\n",
        "weather[\"Temp\"] = weather.Temp.astype(float)\n",
        "\n",
        "#or\n",
        "\n",
        "data_w_dummies['TotalCharges'] = pd.to_numeric(data_w_dummies['TotalCharges'])"
      ],
      "execution_count": null,
      "outputs": []
    },
    {
      "cell_type": "markdown",
      "metadata": {
        "id": "hBHuz6OJJjvg",
        "colab_type": "text"
      },
      "source": [
        "## Visualizations"
      ]
    },
    {
      "cell_type": "code",
      "metadata": {
        "id": "Ndp0tsWkJop9",
        "colab_type": "code",
        "colab": {}
      },
      "source": [
        "#corr matrix\n",
        "corrmat = data.corr()\n",
        "\n",
        "cols = ['instant','dteday', 'season', 'yr', 'mnth', 'hr', 'holiday', 'weekday', 'workingday', 'weathersit', 'temp', 'atemp', 'hum', 'windspeed']\n",
        "k = 15 #number of variables for heatmap\n",
        "cols = corrmat.nlargest(k, 'cnt')['cnt'].index\n",
        "cm = np.corrcoef(data[cols].values.T)\n",
        "sns.set(font_scale=1.25)\n",
        "hm = sns.heatmap(cm, cbar=True, annot=True, square=True, fmt='.2f', annot_kws={'size': 10}, yticklabels=cols.values, xticklabels=cols.values)\n",
        "plt.show()"
      ],
      "execution_count": null,
      "outputs": []
    },
    {
      "cell_type": "markdown",
      "metadata": {
        "id": "QAfdsgrH5it_",
        "colab_type": "text"
      },
      "source": [
        "##Getting file names"
      ]
    },
    {
      "cell_type": "code",
      "metadata": {
        "id": "_nWUlPH75o6H",
        "colab_type": "code",
        "colab": {}
      },
      "source": [
        "fnames = get_files(path_train,extensions=['.dcm'],recurse=recurse)#(path_images)get_files"
      ],
      "execution_count": null,
      "outputs": []
    },
    {
      "cell_type": "markdown",
      "metadata": {
        "id": "pDHgtdIh9F3D",
        "colab_type": "text"
      },
      "source": [
        "##Printing formats"
      ]
    },
    {
      "cell_type": "code",
      "metadata": {
        "id": "-rTSXQm29EyO",
        "colab_type": "code",
        "colab": {}
      },
      "source": [
        "print(f\"Train labels -  rows: {train_labels_df.shape[0]}, columns: {train_labels_df.shape[1]}\")\n",
        "print(f\"your text you want to explain the output: {value_you_want_to_show}\")"
      ],
      "execution_count": null,
      "outputs": []
    },
    {
      "cell_type": "markdown",
      "metadata": {
        "id": "zm0tWMHp5ut5",
        "colab_type": "text"
      },
      "source": [
        "##Saving and loading models, finding proper learning rate"
      ]
    },
    {
      "cell_type": "code",
      "metadata": {
        "id": "NllkGaWx5t6H",
        "colab_type": "code",
        "colab": {}
      },
      "source": [
        "learn.save(path_m/'name')"
      ],
      "execution_count": null,
      "outputs": []
    },
    {
      "cell_type": "code",
      "metadata": {
        "id": "SpUfr9z9ARXV",
        "colab_type": "code",
        "colab": {}
      },
      "source": [
        "learn.load(path_m/'name')"
      ],
      "execution_count": null,
      "outputs": []
    },
    {
      "cell_type": "code",
      "metadata": {
        "id": "9mTVY3IdAU4a",
        "colab_type": "code",
        "colab": {}
      },
      "source": [
        "learn.unfreeze()"
      ],
      "execution_count": null,
      "outputs": []
    },
    {
      "cell_type": "code",
      "metadata": {
        "id": "fMn6nb8MAZT_",
        "colab_type": "code",
        "colab": {}
      },
      "source": [
        "learn.lr_find()"
      ],
      "execution_count": null,
      "outputs": []
    },
    {
      "cell_type": "code",
      "metadata": {
        "id": "g5o-zTFxAheu",
        "colab_type": "code",
        "colab": {}
      },
      "source": [
        "learn.recorder.plot()"
      ],
      "execution_count": null,
      "outputs": []
    },
    {
      "cell_type": "code",
      "metadata": {
        "id": "TD-d4jK6Akw6",
        "colab_type": "code",
        "colab": {}
      },
      "source": [
        ""
      ],
      "execution_count": null,
      "outputs": []
    },
    {
      "cell_type": "markdown",
      "metadata": {
        "id": "SIs4Z_6x1up4",
        "colab_type": "text"
      },
      "source": [
        "## Speeding up Colab"
      ]
    },
    {
      "cell_type": "code",
      "metadata": {
        "id": "FQYFUUBm1fzU",
        "colab_type": "code",
        "colab": {
          "base_uri": "https://localhost:8080/",
          "height": 238
        },
        "outputId": "fcec6e74-a4ac-45d7-ee85-5f777cc18705"
      },
      "source": [
        "#https://medium.com/@oribarel/getting-the-most-out-of-your-google-colab-2b0585f82403\n",
        "\n",
        "#Checking GPU usage\n",
        "\n",
        "!ln -sf /opt/bin/nvidia-smi /usr/bin/nvidia-smi\n",
        "!pip install gputil\n",
        "!pip install psutil\n",
        "!pip install humanize\n",
        "import psutil\n",
        "import humanize\n",
        "import os\n",
        "import GPUtil as GPU\n",
        "GPUs = GPU.getGPUs()\n",
        "# XXX: only one GPU on Colab and isn’t guaranteed\n",
        "gpu = GPUs[0]\n",
        "def printm():\n",
        "  process = psutil.Process(os.getpid())\n",
        "  print(\"Gen RAM Free: \" + humanize.naturalsize( psutil.virtual_memory().available ), \" | Proc size: \" + humanize.naturalsize( process.memory_info().rss))\n",
        "  print(\"GPU RAM Free: {0:.0f}MB | Used: {1:.0f}MB | Util {2:3.0f}% | Total {3:.0f}MB\".format(gpu.memoryFree, gpu.memoryUsed, gpu.memoryUtil*100, gpu.memoryTotal))\n",
        "printm() \n",
        "\n"
      ],
      "execution_count": null,
      "outputs": [
        {
          "output_type": "stream",
          "text": [
            "Collecting gputil\n",
            "  Downloading https://files.pythonhosted.org/packages/ed/0e/5c61eedde9f6c87713e89d794f01e378cfd9565847d4576fa627d758c554/GPUtil-1.4.0.tar.gz\n",
            "Building wheels for collected packages: gputil\n",
            "  Building wheel for gputil (setup.py) ... \u001b[?25l\u001b[?25hdone\n",
            "  Created wheel for gputil: filename=GPUtil-1.4.0-cp36-none-any.whl size=7413 sha256=d3168b6cb8ec7f780c1fcc700e0c22641c2b158bb4b6c2911e8dde6dc6988603\n",
            "  Stored in directory: /root/.cache/pip/wheels/3d/77/07/80562de4bb0786e5ea186911a2c831fdd0018bda69beab71fd\n",
            "Successfully built gputil\n",
            "Installing collected packages: gputil\n",
            "Successfully installed gputil-1.4.0\n",
            "Requirement already satisfied: psutil in /usr/local/lib/python3.6/dist-packages (5.4.8)\n",
            "Requirement already satisfied: humanize in /usr/local/lib/python3.6/dist-packages (0.5.1)\n",
            "Gen RAM Free: 12.7 GB  | Proc size: 159.5 MB\n",
            "GPU RAM Free: 15079MB | Used: 0MB | Util   0% | Total 15079MB\n"
          ],
          "name": "stdout"
        }
      ]
    },
    {
      "cell_type": "code",
      "metadata": {
        "id": "T9AzDwXZ2vD2",
        "colab_type": "code",
        "colab": {}
      },
      "source": [
        "#Create placegholders for datasets\n",
        "import h5py\n",
        "from PIL import Image\n",
        "\n",
        "fileName = 'data.h5'\n",
        "numOfSamples = 10000\n",
        "with h5py.File(fileName, \"w\") as out:\n",
        "  \n",
        "  out.create_dataset(\"X_train\",(numOfSamples,256,256,3),dtype='u1')\n",
        "  out.create_dataset(\"Y_train\",(numOfSamples,1,1),dtype='u1')      \n",
        "  out.create_dataset(\"X_dev\",(numOfSamples,256,256,3),dtype='u1')\n",
        "  out.create_dataset(\"Y_dev\",(numOfSamples,1,1),dtype='u1')      \n",
        "  out.create_dataset(\"X_test\",(numOfSamples,256,256,3),dtype='u1')\n",
        "  out.create_dataset(\"Y_test\",(numOfSamples,1,1),dtype='u1')   "
      ],
      "execution_count": null,
      "outputs": []
    },
    {
      "cell_type": "code",
      "metadata": {
        "id": "M5xc1uYO24aO",
        "colab_type": "code",
        "colab": {}
      },
      "source": [
        "#Load datasets to placeholders\n",
        "with h5py.File(fileName, \"a\") as out:\n",
        "   img = Image.open(\"X_train_1.jpg\")      # X_train_1.jpg is 256 x 256 RGB image\n",
        "   out['X_train'] = numpy.asarray(img)"
      ],
      "execution_count": null,
      "outputs": []
    }
  ]
}