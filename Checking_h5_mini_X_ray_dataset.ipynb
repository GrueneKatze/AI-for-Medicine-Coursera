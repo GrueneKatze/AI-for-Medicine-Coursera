{
  "nbformat": 4,
  "nbformat_minor": 0,
  "metadata": {
    "colab": {
      "name": "Checking h5 mini X-ray dataset.ipynb",
      "provenance": [],
      "authorship_tag": "ABX9TyMrlt87V5YvKK584ekFWGWd",
      "include_colab_link": true
    },
    "kernelspec": {
      "name": "python3",
      "display_name": "Python 3"
    },
    "accelerator": "GPU"
  },
  "cells": [
    {
      "cell_type": "markdown",
      "metadata": {
        "id": "view-in-github",
        "colab_type": "text"
      },
      "source": [
        "<a href=\"https://colab.research.google.com/github/GrueneKatze/AI-for-Medicine-Coursera/blob/master/Checking_h5_mini_X_ray_dataset.ipynb\" target=\"_parent\"><img src=\"https://colab.research.google.com/assets/colab-badge.svg\" alt=\"Open In Colab\"/></a>"
      ]
    },
    {
      "cell_type": "code",
      "metadata": {
        "id": "CIFUS7C25BnY",
        "colab_type": "code",
        "colab": {}
      },
      "source": [
        "import numpy as np\n",
        "import h5py"
      ],
      "execution_count": 0,
      "outputs": []
    },
    {
      "cell_type": "code",
      "metadata": {
        "id": "ZDIbZ-sv7XGX",
        "colab_type": "code",
        "colab": {}
      },
      "source": [
        "hdf5_path = '/content/chest_xray.h5'"
      ],
      "execution_count": 0,
      "outputs": []
    },
    {
      "cell_type": "code",
      "metadata": {
        "id": "ychOr2Ty8ASg",
        "colab_type": "code",
        "colab": {}
      },
      "source": [
        "h5py.File?"
      ],
      "execution_count": 0,
      "outputs": []
    },
    {
      "cell_type": "code",
      "metadata": {
        "id": "Z0odIv1e7Tk2",
        "colab_type": "code",
        "colab": {}
      },
      "source": [
        "f = h5py.File(hdf5_path, mode='r')"
      ],
      "execution_count": 0,
      "outputs": []
    },
    {
      "cell_type": "code",
      "metadata": {
        "id": "u1PV-vz6HD3N",
        "colab_type": "code",
        "colab": {
          "base_uri": "https://localhost:8080/",
          "height": 54
        },
        "outputId": "22b25663-619c-420d-b0e0-637e6cc33a5d"
      },
      "source": [
        "with h5py.File(hdf5_path, \"r\") as f:\n",
        "  # List all groups\n",
        "  print(\"Keys: %s\" % f.keys())\n",
        "  a_group_key = list(f.keys())[0]\n",
        "  # Get the data\n",
        "  data = list(f[a_group_key])"
      ],
      "execution_count": 11,
      "outputs": [
        {
          "output_type": "stream",
          "text": [
            "Keys: <KeysViewHDF5 ['Atelectasis', 'Cardiomegaly', 'Consolidation', 'Edema', 'Effusion', 'Emphysema', 'Fibrosis', 'Finding Labels', 'Follow-up #', 'Hernia', 'Image Index', 'Infiltration', 'Mass', 'Nodule', 'OriginalImageHeight', 'OriginalImagePixelSpacing_x', 'OriginalImagePixelSpacing_y', 'OriginalImageWidth', 'Patient Age', 'Patient Gender', 'Patient ID', 'Pleural_Thickening', 'Pneumonia', 'Pneumothorax', 'View Position', 'images', 'path']>\n"
          ],
          "name": "stdout"
        }
      ]
    },
    {
      "cell_type": "code",
      "metadata": {
        "id": "C5lbguK3Jdyb",
        "colab_type": "code",
        "colab": {
          "base_uri": "https://localhost:8080/",
          "height": 476
        },
        "outputId": "72ad9fa5-a0a8-436a-f2c3-b84263ea7602"
      },
      "source": [
        "for key in h5py.File(hdf5_path, \"r\").keys():\n",
        "  print(key)"
      ],
      "execution_count": 13,
      "outputs": [
        {
          "output_type": "stream",
          "text": [
            "Atelectasis\n",
            "Cardiomegaly\n",
            "Consolidation\n",
            "Edema\n",
            "Effusion\n",
            "Emphysema\n",
            "Fibrosis\n",
            "Finding Labels\n",
            "Follow-up #\n",
            "Hernia\n",
            "Image Index\n",
            "Infiltration\n",
            "Mass\n",
            "Nodule\n",
            "OriginalImageHeight\n",
            "OriginalImagePixelSpacing_x\n",
            "OriginalImagePixelSpacing_y\n",
            "OriginalImageWidth\n",
            "Patient Age\n",
            "Patient Gender\n",
            "Patient ID\n",
            "Pleural_Thickening\n",
            "Pneumonia\n",
            "Pneumothorax\n",
            "View Position\n",
            "images\n",
            "path\n"
          ],
          "name": "stdout"
        }
      ]
    },
    {
      "cell_type": "code",
      "metadata": {
        "id": "gGMwtjA3Ju3K",
        "colab_type": "code",
        "colab": {}
      },
      "source": [
        "group = h5py.File(hdf5_path, \"r\")['OriginalImageHeight']\n"
      ],
      "execution_count": 0,
      "outputs": []
    },
    {
      "cell_type": "code",
      "metadata": {
        "id": "EIsTDyTRMKWn",
        "colab_type": "code",
        "colab": {
          "base_uri": "https://localhost:8080/",
          "height": 34
        },
        "outputId": "ccd3e978-bdd5-4a68-efbc-bba9d60f604b"
      },
      "source": [
        "print(group[0:10])"
      ],
      "execution_count": 16,
      "outputs": [
        {
          "output_type": "stream",
          "text": [
            "[2544 1990 2048 2048 2048 2991 2021 2544 2048 2048]\n"
          ],
          "name": "stdout"
        }
      ]
    },
    {
      "cell_type": "code",
      "metadata": {
        "id": "etE5REcmMljB",
        "colab_type": "code",
        "colab": {
          "base_uri": "https://localhost:8080/",
          "height": 34
        },
        "outputId": "e61d2da4-0f19-4095-87a8-ac3be2041050"
      },
      "source": [
        "print(h5py.File(hdf5_path, \"r\")['path'])"
      ],
      "execution_count": 18,
      "outputs": [
        {
          "output_type": "stream",
          "text": [
            "<HDF5 dataset \"path\": shape (18000,), type \"|S43\">\n"
          ],
          "name": "stdout"
        }
      ]
    }
  ]
}